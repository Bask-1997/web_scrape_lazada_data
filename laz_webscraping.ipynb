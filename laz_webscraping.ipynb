{
 "cells": [
  {
   "cell_type": "code",
   "execution_count": 233,
   "metadata": {},
   "outputs": [],
   "source": [
    "from pathlib import Path\n",
    "from selenium import webdriver\n",
    "from bs4 import BeautifulSoup\n",
    "import csv"
   ]
  },
  {
   "cell_type": "code",
   "execution_count": 234,
   "metadata": {},
   "outputs": [],
   "source": [
    "# https://www.lazada.co.th/shop-women-t-shirts-tops/?spm=a2o4m.home.cate_8_1.1.193a6f84ZJSrcy\n",
    "# https://www.lazada.co.th/shop-women-t-shirts-tops/?spm=a2o4m.home.cate_8_1.1.50e46f84FVzkjZ\n",
    "# Learn front end\n",
    "# https://www.dataquest.io/blog/web-scraping-python-using-beautiful-soup/"
   ]
  },
  {
   "cell_type": "code",
   "execution_count": 235,
   "metadata": {},
   "outputs": [],
   "source": [
    "driver_path = 'D:\\chalermporn.k\\Desktop\\Dataanalyst\\Youtube_web_scraping_bs4_selenium_2\\lazada_web_scraping\\chromedriver.exe'\n",
    "browser = webdriver.Chrome(executable_path= driver_path)"
   ]
  },
  {
   "cell_type": "code",
   "execution_count": 236,
   "metadata": {},
   "outputs": [],
   "source": [
    "def write_csv(datas):\n",
    "    with open('Laz_ads.csv','w', newline='\\n', encoding='utf8') as f:\n",
    "        fields = ['Title', 'Price', 'Numbuyer','url']\n",
    "        writer = csv.DictWriter(f,fieldnames = fields)\n",
    "        for data in datas:\n",
    "            writer.writerow(data)\n",
    "            print(data)"
   ]
  },
  {
   "cell_type": "code",
   "execution_count": 237,
   "metadata": {},
   "outputs": [],
   "source": [
    "def get_html(url):\n",
    "    browser.get(url)\n",
    "    return browser.page_source"
   ]
  },
  {
   "cell_type": "code",
   "execution_count": 238,
   "metadata": {},
   "outputs": [],
   "source": [
    "def scrape_data(card):\n",
    "    # Title = card.find(\"a\", class_ =\"_8JShU\", title = True)\n",
    "    # Title = card.a.get('title')\n",
    "    # Title = card.find('title')\n",
    "    # text = card.find('a', {'class' : \"_8JShU\"})\n",
    "    # Title = text.get('title', 'No title attribute')\n",
    "\n",
    "\n",
    "    # t = card.find('div' , class_ = '_8JShU')\n",
    "    # Title = t.find('a', title =True).encode(\"utf-8\") #feel like bs4 cant read thai word TT\n",
    "\n",
    "    # Title = card.find(\"a\")\n",
    "    \n",
    "    Title = card.find(\"div\", class_ =\"RfADt\" ).text.replace(' ', '')\n",
    "    Price = card.find(\"span\", class_ =\"ooOxS\").text.replace(' ', '')\n",
    "    Numbuyer = card.find(\"span\", class_ =\"qzqFw\").text.replace(' ','')\n",
    "    url_data = card.a.get('href')\n",
    "    # url_data = card.find(\"a\", href=True).text\n",
    "    # url = card.header.a['href']\n",
    "\n",
    "    card_data = {'Title' : Title, 'Price' : Price, 'Numbuyer' : Numbuyer, 'url' : url_data}\n",
    "    return card_data\n"
   ]
  },
  {
   "cell_type": "code",
   "execution_count": 239,
   "metadata": {},
   "outputs": [
    {
     "name": "stdout",
     "output_type": "stream",
     "text": [
      "<Response [200]>\n"
     ]
    }
   ],
   "source": [
    "import requests\n",
    "url = f'https://www.lazada.co.th/shop-women-t-shirts-tops/?spm=a2o4m.home.cate_8_1.1.193a6f84ZJSrcy'\n",
    "res = requests.get(url)\n",
    "res.encoding = \"utf-8\"\n",
    "print(res)\n"
   ]
  },
  {
   "cell_type": "code",
   "execution_count": 240,
   "metadata": {},
   "outputs": [
    {
     "name": "stdout",
     "output_type": "stream",
     "text": [
      "len card =  40\n",
      "{'Title': 'Aone(พร้อมส่ง/ใหม่#005-1)เสื้อไหมพรมคอหัวใจแต่งกระดุมหน้าButtonT-shirt', 'Price': '฿80.00', 'Numbuyer': '(906)', 'url': '//www.lazada.co.th/products/a-one005-1button-t-shirt-i918866169-s1870274512.html?search=1'}\n",
      "{'Title': 'เสื้อแฟชั่นเชิ้ตลายฮาวายฟรีไซส์อก30-36\"ยาว21\"ผ่ากระดุมหน้าแต่งแขนพองๆจ้ำปลายแข', 'Price': '฿144.00', 'Numbuyer': '(148)', 'url': '//www.lazada.co.th/products/30-36-21-i2150948399-s7178816702.html?search=1'}\n",
      "{'Title': 'เสื้อคอปกเปิดไหล่', 'Price': '฿95.00', 'Numbuyer': '(157)', 'url': '//www.lazada.co.th/products/-i1692042833-s4772530207.html?search=1'}\n",
      "{'Title': 'ถูกที่สุดวันสุดท้ายพร้อมส่งเสื้อฉลุแต่งแขนชีฟองมุ้งซีทรูลายจุดโบว์ไหล่เก็บเงินปลายทางได้', 'Price': '฿114.00', 'Numbuyer': '(259)', 'url': '//www.lazada.co.th/products/-i1371118306-s4388140749.html?search=1'}\n",
      "{'Title': 'เสื้อคอปกเปิดไหล่', 'Price': '฿93.00', 'Numbuyer': '(1048)', 'url': '//www.lazada.co.th/products/-i261832251-s403593986.html?search=1'}\n",
      "{'Title': 'TDChicShop-รุ่นเว้าไหล่🍓เสื้อเว้าแขนเว้าไหล่ลายฉลุ', 'Price': '฿109.00', 'Numbuyer': '(19)', 'url': '//www.lazada.co.th/products/td-chic-shop-i2468896496-s8667343724.html?search=1'}\n",
      "{'Title': 'เสื้อสีขาวเชิ้ตแฟชั่นอก40ยาว27ผ้านิ่มผ้าไหมอิลาลีผ้าใส่สบาย', 'Price': '฿120.00', 'Numbuyer': '(63)', 'url': '//www.lazada.co.th/products/4027-i1893920713-s5943996554.html?search=1'}\n",
      "{'Title': 'ฤดูร้อนผู้หญิงเสื้อสตรีแต่งลูกไม้แฟชั่นผู้หญิงเสื้อลายลูกไม้ชุดโชว์ร่องอกสบายๆผู้หญิงแขนสั้นเสื้อเสื้อยืดไซส์พลัสเสื้อผ้าS-5XL', 'Price': '฿136.00', 'Numbuyer': '(1382)', 'url': '//www.lazada.co.th/products/s-5xl-i951140976-s1994014724.html?search=1'}\n",
      "{'Title': 'แฟชั่น💕💕💕เสื้อแฟชั่นทรงญาญ่าแขนสั้นพร้อมส่งจ้า', 'Price': '฿99.00', 'Numbuyer': '(12)', 'url': '//www.lazada.co.th/products/-i2395897210-s8169634829.html?search=1'}\n",
      "{'Title': 'เสื้อชีฟองสำหรับผู้หญิงใหม่ผูกโบว์กับสามแขนPolka-Dotเสื้อ', 'Price': '฿105.00', 'Numbuyer': '(72)', 'url': '//www.lazada.co.th/products/polka-dot-i2710992979-s9792245947.html?search=1'}\n",
      "{'Title': '(P)(r)(a)(d)(a)เสื้อเชิ้ตแต่งโลโก้PRADAงานกระแสสุดปังอก32-40”มี(eight)สี', 'Price': '฿169.00', 'Numbuyer': '(15)', 'url': '//www.lazada.co.th/products/prada-prada-32-40-eight-i2444025571-s8470029705.html?search=1'}\n",
      "{'Title': 'ꕥCatalogFashionꕥเสื้อแขนสั้นปาดไหล่ลายทางแขนตุ๊กตา', 'Price': '฿124.00', 'Numbuyer': '(24)', 'url': '//www.lazada.co.th/products/catalog-fashion-i344242560-s670438010.html?search=1'}\n",
      "{'Title': 'เสื้อปกเปิดไหล่อก40ยาว23นิ้วมีสีขาวดำ', 'Price': '฿99.00', 'Numbuyer': '(299)', 'url': '//www.lazada.co.th/products/4023-i265451664-s412919133.html?search=1'}\n",
      "{'Title': 'Andyเสื้อผ้าแฟชั่นเสื้อผ้าผู้ญิงเสื้อผู้หญิงเสื้อยืดผูหญิงเสื้อไหมพรมคอหัวใจแต่งกระดุมหน้าเสื้อไหมพรมผญ[กทม.พร้อมส่ง]', 'Price': '฿79.00', 'Numbuyer': '(137)', 'url': '//www.lazada.co.th/products/andy-i1877982723-s5850562088.html?search=1'}\n",
      "{'Title': 'เสื้อผู้หญิงเปิดไหล่ฤดูร้อนทรงหลวมผ้าซีฟองสไตล์เกาหลีเสื้อแฟชั่น', 'Price': '฿159.00', 'Numbuyer': '(103)', 'url': '//www.lazada.co.th/products/-i951624478-s1994944424.html?search=1'}\n",
      "{'Title': '❤️Kim-shop*🔥เสื้อลูกไม้เสื้อแขนยาวผ้าลูกไม้เสื้อแฟชั่น', 'Price': '฿155.00', 'Numbuyer': '(62)', 'url': '//www.lazada.co.th/products/kim-shop-i972826594-s2079848570.html?search=1'}\n",
      "{'Title': 'VaraShopเสื้อสตรีสไตล์เกาหลีผู้หญิงแขนยาวยางยืดขอบกางเกงสำหรับเสื้อผ้าใส่สบายๆของผู้หญิงเสื้อสตรีเสื้อผ้าแฟชั่นหน้าร้อน', 'Price': '฿129.00', 'Numbuyer': '(84)', 'url': '//www.lazada.co.th/products/varashop-i2293348659-s7724440357.html?search=1&freeshipping=1'}\n",
      "{'Title': 'F004TARAShirtYELLOWเสื้อสีเหลืองคอวีแขนพองมีโบว์ผูกหน้าหรือหลังดีไซน์สุดเก๋ผ้าโฟเวย์ใส่สบาย', 'Price': '฿159.00', 'Numbuyer': '(137)', 'url': '//www.lazada.co.th/products/f004-tara-shirt-yellow-i591818237-s1107924074.html?search=1'}\n",
      "{'Title': 'เสื้อนักศึกษาทรงบอยมีกระเป๋าไม่เข้ารูปทรงผู้ชาย', 'Price': '฿140.00', 'Numbuyer': '(12)', 'url': '//www.lazada.co.th/products/-i2240636344-s7490010031.html?search=1'}\n",
      "{'Title': 'LH.Mondayเสื้อยืดแขนตุ๊กตาลาย🍀ตารางสีสันสดใสเหนือสิ่งอื่นใดใส่แล้วสดใสเหมือนตุ๊กตาต้องหามาใส่แล้ว✨', 'Price': '฿145.00', 'Numbuyer': '(41)', 'url': '//www.lazada.co.th/products/lhmonday-i2567309176-s9140169520.html?search=1'}\n",
      "{'Title': 'เสื้อลูกไม้แขนสามส่วนเสื้อลูกไม้เสื้อแขนสามส่วนเสื้อสาวอวบเสื้อออกงานเสื้อใส่เที่ยวรุ่น4622ลายแอปเปิ้ล', 'Price': '฿126.00', 'Numbuyer': '(11)', 'url': '//www.lazada.co.th/products/4622-i770238712-s1509416565.html?search=1'}\n",
      "{'Title': '***ปักลาย***เสื้อม่อฮ่อมหม้อห้อมฟอกอย่างดีคอกลมกระดุมจีนปักลายฟอกอย่างดี', 'Price': '฿159.00', 'Numbuyer': '(39)', 'url': '//www.lazada.co.th/products/-i868332830-s1752092595.html?search=1'}\n",
      "{'Title': \"midsummer2020New!!เสื้อยืดแฟชั่นผู้หญิงสไตล์เกาหลีคอจีนแขนยาวทรงสวยเซ็กซี่ใส่สบายNewFashionwomen's#a534\", 'Price': '฿65.00', 'Numbuyer': '(1125)', 'url': '//www.lazada.co.th/products/midsummer-2020new-new-fashion-womens-a534-i1168152005-s4083934773.html?search=1'}\n",
      "{'Title': 'เสื้อสปันแขนสั้น', 'Price': '฿160.00', 'Numbuyer': '(59)', 'url': '//www.lazada.co.th/products/-i972780651-s2079624812.html?search=1'}\n",
      "{'Title': 'เสื้อกาสะลองคำสีชมพู', 'Price': '฿319.00', 'Numbuyer': '(11)', 'url': '//www.lazada.co.th/products/-i1844946377-s5602282699.html?search=1&freeshipping=1'}\n",
      "{'Title': 'แฟชั่นเชิ้ต+เกาะอกงาน2ชิ้นอก32-38ผ้าชีฟองค่ะ', 'Price': '฿100.00', 'Numbuyer': '(341)', 'url': '//www.lazada.co.th/products/232-38-i2263246800-s7594454269.html?search=1'}\n",
      "{'Title': 'FASHIONJEANS_SHOPเสื้อเชิ้ตผ้าชีฟองแขนยาวfreesizeบางเบาใส่สบาย#9983', 'Price': '฿95.00', 'Numbuyer': '(24)', 'url': '//www.lazada.co.th/products/fashionjeans_shop-freesize-9983-i2286741170-s7686938003.html?search=1'}\n",
      "{'Title': ',,🍒🌟💓สม็อคอกโบว์หน้าสวยเว้อเวิ้น🍒☃️', 'Price': '฿90.00', 'Numbuyer': '(14)', 'url': '//www.lazada.co.th/products/-i2460723945-s8617909157.html?search=1'}\n",
      "{'Title': 'เสื้ออสม.หญิง/เสื้อกาวน์อสม.ผู้หญิงปกฮาวายสีเทาอมฟ้านิดๆตามระเบียบราคาถูกที่สุดมีเก็บเงินปลายทาง', 'Price': '฿309.00', 'Numbuyer': '(216)', 'url': '//www.lazada.co.th/products/-i1888942373-s10267420054.html?search=1'}\n",
      "{'Title': 'เสื้อลายสีดำอก40นิ้วยาว22นิ้วเสื้อกะเหรี่ยงลดราคาทุนเสื้อพื้นเมืองเดรสผ้าฝ้ายชุดผ้าฝ้ายเสื้อผ้าเมืองผ้าเมืองผ้าไทย', 'Price': '฿99.00', 'Numbuyer': '(66)', 'url': '//www.lazada.co.th/products/40-22-i994560469-s2167462398.html?search=1'}\n",
      "{'Title': '❤️เสื้อคอเหลี่ยมแขนยาวซีทรูลายจุดผ้าคอตตอนฉลุสีขาว', 'Price': '฿119.00', 'Numbuyer': '(138)', 'url': '//www.lazada.co.th/products/-i1380772985-s3513074500.html?search=1'}\n",
      "{'Title': 'เสื้อผ้าแฟชั่ยผู้หญิงเสื้อครอปเอวลอยเสื้อเบล่าส์เสื้อทูนิคเสื้อคอปกแต่งเป๋าแขนสั้น', 'Price': '฿105.00', 'Numbuyer': '(33)', 'url': '//www.lazada.co.th/products/-i2223017122-s7443815465.html?search=1'}\n",
      "{'Title': 'เสื้อคุณยายเสื้อสมัยคนแก่เสื้อคุณยายใส่ทำบุญเสื้อคนแก่ผู้หญิงเสื้อคุณย่าเสื้อคุณยายดอกเล็กๆ', 'Price': '฿150.00', 'Numbuyer': '(16)', 'url': '//www.lazada.co.th/products/-i2449979052-s8561312951.html?search=1'}\n",
      "{'Title': 'Originalขายดีโปร11.11เสื้อฉลุโบว์ไหล่แขนมุ้ง', 'Price': '฿113.00', 'Numbuyer': '(31)', 'url': '//www.lazada.co.th/products/original-1111-i1814798745-s5432216049.html?search=1'}\n",
      "{'Title': '💜🌀🎀เสื้อเชิ๊ตแขนยาวผูกโบว์หน้าอก32-42ใส่สบาย🌀💜🎀', 'Price': '฿98.00', 'Numbuyer': '(12)', 'url': '//www.lazada.co.th/products/32-42-i1931982757-s6107332446.html?search=1'}\n",
      "{'Title': 'MLเนื้อผ้าดีเสื้อเชิ้ตผู้หญิงเสื้อทำงานออฟฟิศเสื้อแขนยาวM-3XLพร้อมส่งผ้าใส่สบายน์คอวีเสื้อทํางานเสื้อในไซสใหญ่เสื้อมัดย้อม', 'Price': '฿139.00', 'Numbuyer': '(88)', 'url': '//www.lazada.co.th/products/ml-m-3xl-i2272659112-s7749255642.html?search=1'}\n",
      "{'Title': 'เสื้อนักเรียนหญิงมัธยมม.ปลายตราสมอ-ชุดนักเรียนโรงเรียนรัฐบาลแขนตุ๊กตาคอปกเชิ้ต', 'Price': '฿190.00', 'Numbuyer': '(46)', 'url': '//www.lazada.co.th/products/-i527876029-s947392673.html?search=1'}\n",
      "{'Title': 'Aimiเสื้อผ้าแฟชั่นแขนสั้นผู้หญิงเสื้อผู้หญิงเสื้อผ้าวินเทจแบบสลิมฟิตสไตล์เกาหลีเสื้อไหมพรมผญ[กทม.พร้อมส่ง]', 'Price': '฿109.00', 'Numbuyer': '(43)', 'url': '//www.lazada.co.th/products/aimi-i1575434457-s4257032002.html?search=1'}\n",
      "{'Title': 'เสื้อผ้าผู้หญิงเสื้อลูกไม้เสื้อผ้าแฟชั่นเสื้อสาวอวบเสื้ออกงานเสื้อใส่เที่ยวรุ่น4076-4676ขาวล้วน', 'Price': '฿70.00', 'Numbuyer': '(370)', 'url': '//www.lazada.co.th/products/4076-4676-i1480624824-s3893692904.html?search=1'}\n",
      "{'Title': 'เสื้อเชิ้ตแขนสม้อกลายบลูเบอรี่', 'Price': '฿118.00', 'Numbuyer': '(10)', 'url': '//www.lazada.co.th/products/-i2321042818-s7841831267.html?search=1'}\n",
      "[{'Title': 'Aone(พร้อมส่ง/ใหม่#005-1)เสื้อไหมพรมคอหัวใจแต่งกระดุมหน้าButtonT-shirt', 'Price': '฿80.00', 'Numbuyer': '(906)', 'url': '//www.lazada.co.th/products/a-one005-1button-t-shirt-i918866169-s1870274512.html?search=1'}, {'Title': 'เสื้อแฟชั่นเชิ้ตลายฮาวายฟรีไซส์อก30-36\"ยาว21\"ผ่ากระดุมหน้าแต่งแขนพองๆจ้ำปลายแข', 'Price': '฿144.00', 'Numbuyer': '(148)', 'url': '//www.lazada.co.th/products/30-36-21-i2150948399-s7178816702.html?search=1'}, {'Title': 'เสื้อคอปกเปิดไหล่', 'Price': '฿95.00', 'Numbuyer': '(157)', 'url': '//www.lazada.co.th/products/-i1692042833-s4772530207.html?search=1'}, {'Title': 'ถูกที่สุดวันสุดท้ายพร้อมส่งเสื้อฉลุแต่งแขนชีฟองมุ้งซีทรูลายจุดโบว์ไหล่เก็บเงินปลายทางได้', 'Price': '฿114.00', 'Numbuyer': '(259)', 'url': '//www.lazada.co.th/products/-i1371118306-s4388140749.html?search=1'}, {'Title': 'เสื้อคอปกเปิดไหล่', 'Price': '฿93.00', 'Numbuyer': '(1048)', 'url': '//www.lazada.co.th/products/-i261832251-s403593986.html?search=1'}, {'Title': 'TDChicShop-รุ่นเว้าไหล่🍓เสื้อเว้าแขนเว้าไหล่ลายฉลุ', 'Price': '฿109.00', 'Numbuyer': '(19)', 'url': '//www.lazada.co.th/products/td-chic-shop-i2468896496-s8667343724.html?search=1'}, {'Title': 'เสื้อสีขาวเชิ้ตแฟชั่นอก40ยาว27ผ้านิ่มผ้าไหมอิลาลีผ้าใส่สบาย', 'Price': '฿120.00', 'Numbuyer': '(63)', 'url': '//www.lazada.co.th/products/4027-i1893920713-s5943996554.html?search=1'}, {'Title': 'ฤดูร้อนผู้หญิงเสื้อสตรีแต่งลูกไม้แฟชั่นผู้หญิงเสื้อลายลูกไม้ชุดโชว์ร่องอกสบายๆผู้หญิงแขนสั้นเสื้อเสื้อยืดไซส์พลัสเสื้อผ้าS-5XL', 'Price': '฿136.00', 'Numbuyer': '(1382)', 'url': '//www.lazada.co.th/products/s-5xl-i951140976-s1994014724.html?search=1'}, {'Title': 'แฟชั่น💕💕💕เสื้อแฟชั่นทรงญาญ่าแขนสั้นพร้อมส่งจ้า', 'Price': '฿99.00', 'Numbuyer': '(12)', 'url': '//www.lazada.co.th/products/-i2395897210-s8169634829.html?search=1'}, {'Title': 'เสื้อชีฟองสำหรับผู้หญิงใหม่ผูกโบว์กับสามแขนPolka-Dotเสื้อ', 'Price': '฿105.00', 'Numbuyer': '(72)', 'url': '//www.lazada.co.th/products/polka-dot-i2710992979-s9792245947.html?search=1'}, {'Title': '(P)(r)(a)(d)(a)เสื้อเชิ้ตแต่งโลโก้PRADAงานกระแสสุดปังอก32-40”มี(eight)สี', 'Price': '฿169.00', 'Numbuyer': '(15)', 'url': '//www.lazada.co.th/products/prada-prada-32-40-eight-i2444025571-s8470029705.html?search=1'}, {'Title': 'ꕥCatalogFashionꕥเสื้อแขนสั้นปาดไหล่ลายทางแขนตุ๊กตา', 'Price': '฿124.00', 'Numbuyer': '(24)', 'url': '//www.lazada.co.th/products/catalog-fashion-i344242560-s670438010.html?search=1'}, {'Title': 'เสื้อปกเปิดไหล่อก40ยาว23นิ้วมีสีขาวดำ', 'Price': '฿99.00', 'Numbuyer': '(299)', 'url': '//www.lazada.co.th/products/4023-i265451664-s412919133.html?search=1'}, {'Title': 'Andyเสื้อผ้าแฟชั่นเสื้อผ้าผู้ญิงเสื้อผู้หญิงเสื้อยืดผูหญิงเสื้อไหมพรมคอหัวใจแต่งกระดุมหน้าเสื้อไหมพรมผญ[กทม.พร้อมส่ง]', 'Price': '฿79.00', 'Numbuyer': '(137)', 'url': '//www.lazada.co.th/products/andy-i1877982723-s5850562088.html?search=1'}, {'Title': 'เสื้อผู้หญิงเปิดไหล่ฤดูร้อนทรงหลวมผ้าซีฟองสไตล์เกาหลีเสื้อแฟชั่น', 'Price': '฿159.00', 'Numbuyer': '(103)', 'url': '//www.lazada.co.th/products/-i951624478-s1994944424.html?search=1'}, {'Title': '❤️Kim-shop*🔥เสื้อลูกไม้เสื้อแขนยาวผ้าลูกไม้เสื้อแฟชั่น', 'Price': '฿155.00', 'Numbuyer': '(62)', 'url': '//www.lazada.co.th/products/kim-shop-i972826594-s2079848570.html?search=1'}, {'Title': 'VaraShopเสื้อสตรีสไตล์เกาหลีผู้หญิงแขนยาวยางยืดขอบกางเกงสำหรับเสื้อผ้าใส่สบายๆของผู้หญิงเสื้อสตรีเสื้อผ้าแฟชั่นหน้าร้อน', 'Price': '฿129.00', 'Numbuyer': '(84)', 'url': '//www.lazada.co.th/products/varashop-i2293348659-s7724440357.html?search=1&freeshipping=1'}, {'Title': 'F004TARAShirtYELLOWเสื้อสีเหลืองคอวีแขนพองมีโบว์ผูกหน้าหรือหลังดีไซน์สุดเก๋ผ้าโฟเวย์ใส่สบาย', 'Price': '฿159.00', 'Numbuyer': '(137)', 'url': '//www.lazada.co.th/products/f004-tara-shirt-yellow-i591818237-s1107924074.html?search=1'}, {'Title': 'เสื้อนักศึกษาทรงบอยมีกระเป๋าไม่เข้ารูปทรงผู้ชาย', 'Price': '฿140.00', 'Numbuyer': '(12)', 'url': '//www.lazada.co.th/products/-i2240636344-s7490010031.html?search=1'}, {'Title': 'LH.Mondayเสื้อยืดแขนตุ๊กตาลาย🍀ตารางสีสันสดใสเหนือสิ่งอื่นใดใส่แล้วสดใสเหมือนตุ๊กตาต้องหามาใส่แล้ว✨', 'Price': '฿145.00', 'Numbuyer': '(41)', 'url': '//www.lazada.co.th/products/lhmonday-i2567309176-s9140169520.html?search=1'}, {'Title': 'เสื้อลูกไม้แขนสามส่วนเสื้อลูกไม้เสื้อแขนสามส่วนเสื้อสาวอวบเสื้อออกงานเสื้อใส่เที่ยวรุ่น4622ลายแอปเปิ้ล', 'Price': '฿126.00', 'Numbuyer': '(11)', 'url': '//www.lazada.co.th/products/4622-i770238712-s1509416565.html?search=1'}, {'Title': '***ปักลาย***เสื้อม่อฮ่อมหม้อห้อมฟอกอย่างดีคอกลมกระดุมจีนปักลายฟอกอย่างดี', 'Price': '฿159.00', 'Numbuyer': '(39)', 'url': '//www.lazada.co.th/products/-i868332830-s1752092595.html?search=1'}, {'Title': \"midsummer2020New!!เสื้อยืดแฟชั่นผู้หญิงสไตล์เกาหลีคอจีนแขนยาวทรงสวยเซ็กซี่ใส่สบายNewFashionwomen's#a534\", 'Price': '฿65.00', 'Numbuyer': '(1125)', 'url': '//www.lazada.co.th/products/midsummer-2020new-new-fashion-womens-a534-i1168152005-s4083934773.html?search=1'}, {'Title': 'เสื้อสปันแขนสั้น', 'Price': '฿160.00', 'Numbuyer': '(59)', 'url': '//www.lazada.co.th/products/-i972780651-s2079624812.html?search=1'}, {'Title': 'เสื้อกาสะลองคำสีชมพู', 'Price': '฿319.00', 'Numbuyer': '(11)', 'url': '//www.lazada.co.th/products/-i1844946377-s5602282699.html?search=1&freeshipping=1'}, {'Title': 'แฟชั่นเชิ้ต+เกาะอกงาน2ชิ้นอก32-38ผ้าชีฟองค่ะ', 'Price': '฿100.00', 'Numbuyer': '(341)', 'url': '//www.lazada.co.th/products/232-38-i2263246800-s7594454269.html?search=1'}, {'Title': 'FASHIONJEANS_SHOPเสื้อเชิ้ตผ้าชีฟองแขนยาวfreesizeบางเบาใส่สบาย#9983', 'Price': '฿95.00', 'Numbuyer': '(24)', 'url': '//www.lazada.co.th/products/fashionjeans_shop-freesize-9983-i2286741170-s7686938003.html?search=1'}, {'Title': ',,🍒🌟💓สม็อคอกโบว์หน้าสวยเว้อเวิ้น🍒☃️', 'Price': '฿90.00', 'Numbuyer': '(14)', 'url': '//www.lazada.co.th/products/-i2460723945-s8617909157.html?search=1'}, {'Title': 'เสื้ออสม.หญิง/เสื้อกาวน์อสม.ผู้หญิงปกฮาวายสีเทาอมฟ้านิดๆตามระเบียบราคาถูกที่สุดมีเก็บเงินปลายทาง', 'Price': '฿309.00', 'Numbuyer': '(216)', 'url': '//www.lazada.co.th/products/-i1888942373-s10267420054.html?search=1'}, {'Title': 'เสื้อลายสีดำอก40นิ้วยาว22นิ้วเสื้อกะเหรี่ยงลดราคาทุนเสื้อพื้นเมืองเดรสผ้าฝ้ายชุดผ้าฝ้ายเสื้อผ้าเมืองผ้าเมืองผ้าไทย', 'Price': '฿99.00', 'Numbuyer': '(66)', 'url': '//www.lazada.co.th/products/40-22-i994560469-s2167462398.html?search=1'}, {'Title': '❤️เสื้อคอเหลี่ยมแขนยาวซีทรูลายจุดผ้าคอตตอนฉลุสีขาว', 'Price': '฿119.00', 'Numbuyer': '(138)', 'url': '//www.lazada.co.th/products/-i1380772985-s3513074500.html?search=1'}, {'Title': 'เสื้อผ้าแฟชั่ยผู้หญิงเสื้อครอปเอวลอยเสื้อเบล่าส์เสื้อทูนิคเสื้อคอปกแต่งเป๋าแขนสั้น', 'Price': '฿105.00', 'Numbuyer': '(33)', 'url': '//www.lazada.co.th/products/-i2223017122-s7443815465.html?search=1'}, {'Title': 'เสื้อคุณยายเสื้อสมัยคนแก่เสื้อคุณยายใส่ทำบุญเสื้อคนแก่ผู้หญิงเสื้อคุณย่าเสื้อคุณยายดอกเล็กๆ', 'Price': '฿150.00', 'Numbuyer': '(16)', 'url': '//www.lazada.co.th/products/-i2449979052-s8561312951.html?search=1'}, {'Title': 'Originalขายดีโปร11.11เสื้อฉลุโบว์ไหล่แขนมุ้ง', 'Price': '฿113.00', 'Numbuyer': '(31)', 'url': '//www.lazada.co.th/products/original-1111-i1814798745-s5432216049.html?search=1'}, {'Title': '💜🌀🎀เสื้อเชิ๊ตแขนยาวผูกโบว์หน้าอก32-42ใส่สบาย🌀💜🎀', 'Price': '฿98.00', 'Numbuyer': '(12)', 'url': '//www.lazada.co.th/products/32-42-i1931982757-s6107332446.html?search=1'}, {'Title': 'MLเนื้อผ้าดีเสื้อเชิ้ตผู้หญิงเสื้อทำงานออฟฟิศเสื้อแขนยาวM-3XLพร้อมส่งผ้าใส่สบายน์คอวีเสื้อทํางานเสื้อในไซสใหญ่เสื้อมัดย้อม', 'Price': '฿139.00', 'Numbuyer': '(88)', 'url': '//www.lazada.co.th/products/ml-m-3xl-i2272659112-s7749255642.html?search=1'}, {'Title': 'เสื้อนักเรียนหญิงมัธยมม.ปลายตราสมอ-ชุดนักเรียนโรงเรียนรัฐบาลแขนตุ๊กตาคอปกเชิ้ต', 'Price': '฿190.00', 'Numbuyer': '(46)', 'url': '//www.lazada.co.th/products/-i527876029-s947392673.html?search=1'}, {'Title': 'Aimiเสื้อผ้าแฟชั่นแขนสั้นผู้หญิงเสื้อผู้หญิงเสื้อผ้าวินเทจแบบสลิมฟิตสไตล์เกาหลีเสื้อไหมพรมผญ[กทม.พร้อมส่ง]', 'Price': '฿109.00', 'Numbuyer': '(43)', 'url': '//www.lazada.co.th/products/aimi-i1575434457-s4257032002.html?search=1'}, {'Title': 'เสื้อผ้าผู้หญิงเสื้อลูกไม้เสื้อผ้าแฟชั่นเสื้อสาวอวบเสื้ออกงานเสื้อใส่เที่ยวรุ่น4076-4676ขาวล้วน', 'Price': '฿70.00', 'Numbuyer': '(370)', 'url': '//www.lazada.co.th/products/4076-4676-i1480624824-s3893692904.html?search=1'}, {'Title': 'เสื้อเชิ้ตแขนสม้อกลายบลูเบอรี่', 'Price': '฿118.00', 'Numbuyer': '(10)', 'url': '//www.lazada.co.th/products/-i2321042818-s7841831267.html?search=1'}]\n"
     ]
    }
   ],
   "source": [
    "def main():\n",
    "    ads_data = []\n",
    "    url = f'https://www.lazada.co.th/shop-women-t-shirts-tops/?spm=a2o4m.home.cate_8_1.1.193a6f84ZJSrcy'\n",
    "    html = get_html(url)\n",
    "    soup = BeautifulSoup(html, 'lxml')\n",
    "    # soup = soup.encode(\"utf-8\")\n",
    "    cards = soup.find_all('div', class_ =\"Bm3ON\")\n",
    "    print('len card = ', len(cards))\n",
    "\n",
    "    for card in cards:\n",
    "        card_data = scrape_data(card)\n",
    "        ads_data.append(card_data)\n",
    "    write_csv(ads_data)\n",
    "    print(ads_data)\n",
    "\n",
    "if __name__ == '__main__' :\n",
    "    main()"
   ]
  },
  {
   "cell_type": "code",
   "execution_count": null,
   "metadata": {},
   "outputs": [],
   "source": []
  }
 ],
 "metadata": {
  "interpreter": {
   "hash": "a6400483fb505b37f55e5306e7d67d5e185ed7d29395766aecf0bd5f42590f54"
  },
  "kernelspec": {
   "display_name": "Python 3.8.8 64-bit ('base': conda)",
   "language": "python",
   "name": "python3"
  },
  "language_info": {
   "codemirror_mode": {
    "name": "ipython",
    "version": 3
   },
   "file_extension": ".py",
   "mimetype": "text/x-python",
   "name": "python",
   "nbconvert_exporter": "python",
   "pygments_lexer": "ipython3",
   "version": "3.8.8"
  },
  "orig_nbformat": 4
 },
 "nbformat": 4,
 "nbformat_minor": 2
}
